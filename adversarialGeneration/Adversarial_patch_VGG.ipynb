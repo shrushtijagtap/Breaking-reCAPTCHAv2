{
 "cells": [
  {
   "cell_type": "code",
   "id": "initial_id",
   "metadata": {
    "collapsed": true,
    "ExecuteTime": {
     "end_time": "2024-11-05T01:19:52.987678Z",
     "start_time": "2024-11-05T01:19:49.930311Z"
    }
   },
   "source": [
    "from tensorflow.keras.applications import VGG16, VGG19\n",
    "from tensorflow.keras.applications.vgg16 import preprocess_input, decode_predictions\n",
    "from tensorflow.keras.preprocessing import image\n",
    "import numpy as np"
   ],
   "outputs": [],
   "execution_count": 1
  },
  {
   "metadata": {},
   "cell_type": "code",
   "outputs": [],
   "execution_count": null,
   "source": [
    "# Load the VGG16 model\n",
    "vgg16_model = VGG16(weights='imagenet')\n",
    "\n",
    "# Load the VGG19 model\n",
    "vgg19_model = VGG19(weights='imagenet')\n"
   ],
   "id": "cb8554e85fa647f0"
  },
  {
   "metadata": {},
   "cell_type": "code",
   "outputs": [],
   "execution_count": null,
   "source": [
    "def load_and_preprocess_image(img_path):\n",
    "    img = image.load_img(img_path, target_size=(224, 224))\n",
    "    img_array = image.img_to_array(img)\n",
    "    img_array = np.expand_dims(img_array, axis=0)\n",
    "    img_array = preprocess_input(img_array)  # Preprocess for VGG models\n",
    "    return img_array\n",
    "\n",
    "def predict_image_vgg16(img_path):\n",
    "    img_array = load_and_preprocess_image(img_path)\n",
    "    predictions = vgg16_model.predict(img_array)\n",
    "    decoded_predictions = decode_predictions(predictions, top=3)  # Show top-3 predictions\n",
    "    return decoded_predictions\n",
    "\n",
    "def predict_image_vgg19(img_path):\n",
    "    img_array = load_and_preprocess_image(img_path)\n",
    "    predictions = vgg19_model.predict(img_array)\n",
    "    decoded_predictions = decode_predictions(predictions, top=3)\n",
    "    return decoded_predictions\n",
    "\n"
   ],
   "id": "dc19e49cd38df1c4"
  },
  {
   "metadata": {},
   "cell_type": "code",
   "outputs": [],
   "execution_count": null,
   "source": [
    "# Path to the image\n",
    "img_path = 'germa.jpg'\n",
    "\n",
    "# Predict with VGG16\n",
    "vgg16_predictions = predict_image_vgg16(img_path)\n",
    "print(\"VGG16 Predictions:\")\n",
    "for _, label, score in vgg16_predictions[0]:\n",
    "    print(f\"{label}: {score * 100:.2f}%\")\n",
    "\n",
    "# Predict with VGG19\n",
    "vgg19_predictions = predict_image_vgg19(img_path)\n",
    "print(\"\\nVGG19 Predictions:\")\n",
    "for _, label, score in vgg19_predictions[0]:\n",
    "    print(f\"{label}: {score * 100:.2f}%\")"
   ],
   "id": "4555d8ee8c408f53"
  }
 ],
 "metadata": {
  "kernelspec": {
   "display_name": "Python 3",
   "language": "python",
   "name": "python3"
  },
  "language_info": {
   "codemirror_mode": {
    "name": "ipython",
    "version": 2
   },
   "file_extension": ".py",
   "mimetype": "text/x-python",
   "name": "python",
   "nbconvert_exporter": "python",
   "pygments_lexer": "ipython2",
   "version": "2.7.6"
  }
 },
 "nbformat": 4,
 "nbformat_minor": 5
}
